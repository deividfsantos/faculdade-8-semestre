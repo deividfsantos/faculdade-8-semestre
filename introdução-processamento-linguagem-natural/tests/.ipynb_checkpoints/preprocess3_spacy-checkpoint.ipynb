{
 "cells": [
  {
   "cell_type": "code",
   "execution_count": 7,
   "metadata": {
    "colab": {
     "base_uri": "https://localhost:8080/"
    },
    "id": "GaVpqK6EbDY_",
    "outputId": "18d878b9-746f-45e6-8eda-f841f010bbca"
   },
   "outputs": [
    {
     "name": "stdout",
     "output_type": "stream",
     "text": [
      "PUCRS é a melhor universidade privada da região sul.\n",
      "Carlos estuda na Politécnica.\n"
     ]
    }
   ],
   "source": [
    "#https://www.kaggle.com/code/italomarcelo/nlp-spacy-portuguese\n",
    "\n",
    "import spacy.cli\n",
    "from pathlib import Path\n",
    "\n",
    "#modelos de linguagem para o portugues: https://spacy.io/models/pt\n",
    "#spacy.cli.download(\"pt_core_news_sm\")\n",
    "#spacy.cli.download(\"pt_core_news_md\")\n",
    "#spacy.cli.download(\"pt_core_news_lg\")\n",
    "\n",
    "#Carregando o modelo e o texto\n",
    "nlp = spacy.load(\"pt_core_news_lg\")\n",
    "texto = \"PUCRS é a melhor universidade privada da região sul.\\nCarlos estuda na Politécnica.\"\n",
    "doc = nlp(texto)\n",
    "print(doc.text)"
   ]
  },
  {
   "cell_type": "code",
   "execution_count": 8,
   "metadata": {
    "colab": {
     "base_uri": "https://localhost:8080/"
    },
    "id": "qCNoNM8tb1MF",
    "outputId": "4ecd6dd0-474f-4518-9559-f1f88afb9ad2"
   },
   "outputs": [
    {
     "name": "stdout",
     "output_type": "stream",
     "text": [
      "\n",
      "(TOKEN, LEMA)\n",
      "('PUCRS', 'PUCRS')\n",
      "('é', 'ser')\n",
      "('a', 'o')\n",
      "('melhor', 'bom')\n",
      "('universidade', 'universidade')\n",
      "('privada', 'privado')\n",
      "('da', 'de o')\n",
      "('região', 'região')\n",
      "('sul', 'sul')\n",
      "('.', '.')\n",
      "('\\n', '\\n')\n",
      "('Carlos', 'Carlos')\n",
      "('estuda', 'estudar')\n",
      "('na', 'em o')\n",
      "('Politécnica', 'Politécnica')\n",
      "('.', '.')\n"
     ]
    }
   ],
   "source": [
    "#Tokenização, Lematização e POS para Portugues.\n",
    "#https://spacy.io/api/token#attributes\n",
    "print(\"\\n(TOKEN, LEMA)\")\n",
    "for token in doc:\n",
    "    print((token.text, token.lemma_))"
   ]
  },
  {
   "cell_type": "code",
   "execution_count": 9,
   "metadata": {
    "colab": {
     "base_uri": "https://localhost:8080/"
    },
    "id": "tAvIX3UvmzoF",
    "outputId": "071c3b8d-761e-4012-938f-c8b600ee8931"
   },
   "outputs": [
    {
     "name": "stdout",
     "output_type": "stream",
     "text": [
      "\n",
      "(TOKEN, LEMA,POS)\n",
      "('PUCRS', 'PUCRS', 'PROPN')\n",
      "('é', 'ser', 'AUX')\n",
      "('a', 'o', 'DET')\n",
      "('melhor', 'bom', 'ADJ')\n",
      "('universidade', 'universidade', 'NOUN')\n",
      "('privada', 'privado', 'ADJ')\n",
      "('da', 'de o', 'ADP')\n",
      "('região', 'região', 'NOUN')\n",
      "('sul', 'sul', 'ADJ')\n",
      "('.', '.', 'PUNCT')\n",
      "('\\n', '\\n', 'SPACE')\n",
      "('Carlos', 'Carlos', 'PROPN')\n",
      "('estuda', 'estudar', 'VERB')\n",
      "('na', 'em o', 'ADP')\n",
      "('Politécnica', 'Politécnica', 'PROPN')\n",
      "('.', '.', 'PUNCT')\n"
     ]
    }
   ],
   "source": [
    "print(\"\\n(TOKEN, LEMA,POS)\")\n",
    "for token in doc:\n",
    "    print((token.text, token.lemma_, token.pos_))"
   ]
  },
  {
   "cell_type": "code",
   "execution_count": 10,
   "metadata": {
    "colab": {
     "base_uri": "https://localhost:8080/"
    },
    "id": "39JT3DKWnNRj",
    "outputId": "b37e6c34-c70b-4ba1-d45d-beda8b253e2d"
   },
   "outputs": [
    {
     "name": "stdout",
     "output_type": "stream",
     "text": [
      "\n",
      "(TOKEN, CARACTERISTICAS MORFOLOGICAS)\n",
      "('PUCRS', Gender=Fem|Number=Sing)\n",
      "('é', Mood=Ind|Number=Sing|Person=3|Tense=Pres|VerbForm=Fin)\n",
      "('a', Definite=Def|Gender=Fem|Number=Sing|PronType=Art)\n",
      "('melhor', Gender=Fem|Number=Sing)\n",
      "('universidade', Gender=Fem|Number=Sing)\n",
      "('privada', Gender=Fem|Number=Sing)\n",
      "('da', Definite=Def|Gender=Fem|Number=Sing|PronType=Art)\n",
      "('região', Gender=Fem|Number=Sing)\n",
      "('sul', Gender=Fem|Number=Sing)\n",
      "('.', )\n",
      "('\\n', )\n",
      "('Carlos', Gender=Masc|Number=Sing)\n",
      "('estuda', Mood=Ind|Number=Sing|Person=3|Tense=Pres|VerbForm=Fin)\n",
      "('na', Definite=Def|Gender=Fem|Number=Sing|PronType=Art)\n",
      "('Politécnica', Gender=Fem|Number=Sing)\n",
      "('.', )\n"
     ]
    }
   ],
   "source": [
    "print(\"\\n(TOKEN, CARACTERISTICAS MORFOLOGICAS)\")\n",
    "for token in doc:\n",
    "    print((token.text, token.morph))"
   ]
  },
  {
   "cell_type": "code",
   "execution_count": 11,
   "metadata": {
    "colab": {
     "base_uri": "https://localhost:8080/"
    },
    "id": "wqbC6lqRoSL-",
    "outputId": "6b663df6-56d2-46a8-8018-047fef1eb430"
   },
   "outputs": [
    {
     "name": "stdout",
     "output_type": "stream",
     "text": [
      "PUCRS é a melhor universidade privada da região sul.\n",
      "Carlos estuda na Politécnica.\n",
      "\n",
      "(TOKEN, DEPENDENCIAS, HEAD)\n",
      "('PUCRS', 'nsubj', universidade)\n",
      "('é', 'cop', universidade)\n",
      "('a', 'det', universidade)\n",
      "('melhor', 'amod', universidade)\n",
      "('universidade', 'ROOT', universidade)\n",
      "('privada', 'amod', universidade)\n",
      "('da', 'case', região)\n",
      "('região', 'nmod', universidade)\n",
      "('sul', 'amod', região)\n",
      "('.', 'punct', universidade)\n",
      "('\\n', 'dep', .)\n",
      "('Carlos', 'nsubj', estuda)\n",
      "('estuda', 'ROOT', estuda)\n",
      "('na', 'case', Politécnica)\n",
      "('Politécnica', 'obl', estuda)\n",
      "('.', 'punct', estuda)\n"
     ]
    },
    {
     "data": {
      "text/html": [
       "<span class=\"tex2jax_ignore\"><svg xmlns=\"http://www.w3.org/2000/svg\" xmlns:xlink=\"http://www.w3.org/1999/xlink\" xml:lang=\"pt\" id=\"be9787dc7d864333a4f5a2feef0b9207-0\" class=\"displacy\" width=\"2500\" height=\"487.0\" direction=\"ltr\" style=\"max-width: none; height: 487.0px; color: #000000; background: #ffffff; font-family: Arial; direction: ltr\">\n",
       "<text class=\"displacy-token\" fill=\"currentColor\" text-anchor=\"middle\" y=\"397.0\">\n",
       "    <tspan class=\"displacy-word\" fill=\"currentColor\" x=\"50\">PUCRS</tspan>\n",
       "    <tspan class=\"displacy-tag\" dy=\"2em\" fill=\"currentColor\" x=\"50\">PROPN</tspan>\n",
       "</text>\n",
       "\n",
       "<text class=\"displacy-token\" fill=\"currentColor\" text-anchor=\"middle\" y=\"397.0\">\n",
       "    <tspan class=\"displacy-word\" fill=\"currentColor\" x=\"225\">é</tspan>\n",
       "    <tspan class=\"displacy-tag\" dy=\"2em\" fill=\"currentColor\" x=\"225\">AUX</tspan>\n",
       "</text>\n",
       "\n",
       "<text class=\"displacy-token\" fill=\"currentColor\" text-anchor=\"middle\" y=\"397.0\">\n",
       "    <tspan class=\"displacy-word\" fill=\"currentColor\" x=\"400\">a</tspan>\n",
       "    <tspan class=\"displacy-tag\" dy=\"2em\" fill=\"currentColor\" x=\"400\">DET</tspan>\n",
       "</text>\n",
       "\n",
       "<text class=\"displacy-token\" fill=\"currentColor\" text-anchor=\"middle\" y=\"397.0\">\n",
       "    <tspan class=\"displacy-word\" fill=\"currentColor\" x=\"575\">melhor</tspan>\n",
       "    <tspan class=\"displacy-tag\" dy=\"2em\" fill=\"currentColor\" x=\"575\">ADJ</tspan>\n",
       "</text>\n",
       "\n",
       "<text class=\"displacy-token\" fill=\"currentColor\" text-anchor=\"middle\" y=\"397.0\">\n",
       "    <tspan class=\"displacy-word\" fill=\"currentColor\" x=\"750\">universidade</tspan>\n",
       "    <tspan class=\"displacy-tag\" dy=\"2em\" fill=\"currentColor\" x=\"750\">NOUN</tspan>\n",
       "</text>\n",
       "\n",
       "<text class=\"displacy-token\" fill=\"currentColor\" text-anchor=\"middle\" y=\"397.0\">\n",
       "    <tspan class=\"displacy-word\" fill=\"currentColor\" x=\"925\">privada</tspan>\n",
       "    <tspan class=\"displacy-tag\" dy=\"2em\" fill=\"currentColor\" x=\"925\">ADJ</tspan>\n",
       "</text>\n",
       "\n",
       "<text class=\"displacy-token\" fill=\"currentColor\" text-anchor=\"middle\" y=\"397.0\">\n",
       "    <tspan class=\"displacy-word\" fill=\"currentColor\" x=\"1100\">da</tspan>\n",
       "    <tspan class=\"displacy-tag\" dy=\"2em\" fill=\"currentColor\" x=\"1100\">ADP</tspan>\n",
       "</text>\n",
       "\n",
       "<text class=\"displacy-token\" fill=\"currentColor\" text-anchor=\"middle\" y=\"397.0\">\n",
       "    <tspan class=\"displacy-word\" fill=\"currentColor\" x=\"1275\">região</tspan>\n",
       "    <tspan class=\"displacy-tag\" dy=\"2em\" fill=\"currentColor\" x=\"1275\">NOUN</tspan>\n",
       "</text>\n",
       "\n",
       "<text class=\"displacy-token\" fill=\"currentColor\" text-anchor=\"middle\" y=\"397.0\">\n",
       "    <tspan class=\"displacy-word\" fill=\"currentColor\" x=\"1450\">sul.</tspan>\n",
       "    <tspan class=\"displacy-tag\" dy=\"2em\" fill=\"currentColor\" x=\"1450\">PUNCT</tspan>\n",
       "</text>\n",
       "\n",
       "<text class=\"displacy-token\" fill=\"currentColor\" text-anchor=\"middle\" y=\"397.0\">\n",
       "    <tspan class=\"displacy-word\" fill=\"currentColor\" x=\"1625\">\n",
       "</tspan>\n",
       "    <tspan class=\"displacy-tag\" dy=\"2em\" fill=\"currentColor\" x=\"1625\">SPACE</tspan>\n",
       "</text>\n",
       "\n",
       "<text class=\"displacy-token\" fill=\"currentColor\" text-anchor=\"middle\" y=\"397.0\">\n",
       "    <tspan class=\"displacy-word\" fill=\"currentColor\" x=\"1800\">Carlos</tspan>\n",
       "    <tspan class=\"displacy-tag\" dy=\"2em\" fill=\"currentColor\" x=\"1800\">PROPN</tspan>\n",
       "</text>\n",
       "\n",
       "<text class=\"displacy-token\" fill=\"currentColor\" text-anchor=\"middle\" y=\"397.0\">\n",
       "    <tspan class=\"displacy-word\" fill=\"currentColor\" x=\"1975\">estuda</tspan>\n",
       "    <tspan class=\"displacy-tag\" dy=\"2em\" fill=\"currentColor\" x=\"1975\">VERB</tspan>\n",
       "</text>\n",
       "\n",
       "<text class=\"displacy-token\" fill=\"currentColor\" text-anchor=\"middle\" y=\"397.0\">\n",
       "    <tspan class=\"displacy-word\" fill=\"currentColor\" x=\"2150\">na</tspan>\n",
       "    <tspan class=\"displacy-tag\" dy=\"2em\" fill=\"currentColor\" x=\"2150\">ADP</tspan>\n",
       "</text>\n",
       "\n",
       "<text class=\"displacy-token\" fill=\"currentColor\" text-anchor=\"middle\" y=\"397.0\">\n",
       "    <tspan class=\"displacy-word\" fill=\"currentColor\" x=\"2325\">Politécnica.</tspan>\n",
       "    <tspan class=\"displacy-tag\" dy=\"2em\" fill=\"currentColor\" x=\"2325\">PROPN</tspan>\n",
       "</text>\n",
       "\n",
       "<g class=\"displacy-arrow\">\n",
       "    <path class=\"displacy-arc\" id=\"arrow-be9787dc7d864333a4f5a2feef0b9207-0-0\" stroke-width=\"2px\" d=\"M70,352.0 C70,2.0 750.0,2.0 750.0,352.0\" fill=\"none\" stroke=\"currentColor\"/>\n",
       "    <text dy=\"1.25em\" style=\"font-size: 0.8em; letter-spacing: 1px\">\n",
       "        <textPath xlink:href=\"#arrow-be9787dc7d864333a4f5a2feef0b9207-0-0\" class=\"displacy-label\" startOffset=\"50%\" side=\"left\" fill=\"currentColor\" text-anchor=\"middle\">nsubj</textPath>\n",
       "    </text>\n",
       "    <path class=\"displacy-arrowhead\" d=\"M70,354.0 L62,342.0 78,342.0\" fill=\"currentColor\"/>\n",
       "</g>\n",
       "\n",
       "<g class=\"displacy-arrow\">\n",
       "    <path class=\"displacy-arc\" id=\"arrow-be9787dc7d864333a4f5a2feef0b9207-0-1\" stroke-width=\"2px\" d=\"M245,352.0 C245,89.5 745.0,89.5 745.0,352.0\" fill=\"none\" stroke=\"currentColor\"/>\n",
       "    <text dy=\"1.25em\" style=\"font-size: 0.8em; letter-spacing: 1px\">\n",
       "        <textPath xlink:href=\"#arrow-be9787dc7d864333a4f5a2feef0b9207-0-1\" class=\"displacy-label\" startOffset=\"50%\" side=\"left\" fill=\"currentColor\" text-anchor=\"middle\">cop</textPath>\n",
       "    </text>\n",
       "    <path class=\"displacy-arrowhead\" d=\"M245,354.0 L237,342.0 253,342.0\" fill=\"currentColor\"/>\n",
       "</g>\n",
       "\n",
       "<g class=\"displacy-arrow\">\n",
       "    <path class=\"displacy-arc\" id=\"arrow-be9787dc7d864333a4f5a2feef0b9207-0-2\" stroke-width=\"2px\" d=\"M420,352.0 C420,177.0 740.0,177.0 740.0,352.0\" fill=\"none\" stroke=\"currentColor\"/>\n",
       "    <text dy=\"1.25em\" style=\"font-size: 0.8em; letter-spacing: 1px\">\n",
       "        <textPath xlink:href=\"#arrow-be9787dc7d864333a4f5a2feef0b9207-0-2\" class=\"displacy-label\" startOffset=\"50%\" side=\"left\" fill=\"currentColor\" text-anchor=\"middle\">det</textPath>\n",
       "    </text>\n",
       "    <path class=\"displacy-arrowhead\" d=\"M420,354.0 L412,342.0 428,342.0\" fill=\"currentColor\"/>\n",
       "</g>\n",
       "\n",
       "<g class=\"displacy-arrow\">\n",
       "    <path class=\"displacy-arc\" id=\"arrow-be9787dc7d864333a4f5a2feef0b9207-0-3\" stroke-width=\"2px\" d=\"M595,352.0 C595,264.5 735.0,264.5 735.0,352.0\" fill=\"none\" stroke=\"currentColor\"/>\n",
       "    <text dy=\"1.25em\" style=\"font-size: 0.8em; letter-spacing: 1px\">\n",
       "        <textPath xlink:href=\"#arrow-be9787dc7d864333a4f5a2feef0b9207-0-3\" class=\"displacy-label\" startOffset=\"50%\" side=\"left\" fill=\"currentColor\" text-anchor=\"middle\">amod</textPath>\n",
       "    </text>\n",
       "    <path class=\"displacy-arrowhead\" d=\"M595,354.0 L587,342.0 603,342.0\" fill=\"currentColor\"/>\n",
       "</g>\n",
       "\n",
       "<g class=\"displacy-arrow\">\n",
       "    <path class=\"displacy-arc\" id=\"arrow-be9787dc7d864333a4f5a2feef0b9207-0-4\" stroke-width=\"2px\" d=\"M770,352.0 C770,264.5 910.0,264.5 910.0,352.0\" fill=\"none\" stroke=\"currentColor\"/>\n",
       "    <text dy=\"1.25em\" style=\"font-size: 0.8em; letter-spacing: 1px\">\n",
       "        <textPath xlink:href=\"#arrow-be9787dc7d864333a4f5a2feef0b9207-0-4\" class=\"displacy-label\" startOffset=\"50%\" side=\"left\" fill=\"currentColor\" text-anchor=\"middle\">amod</textPath>\n",
       "    </text>\n",
       "    <path class=\"displacy-arrowhead\" d=\"M910.0,354.0 L918.0,342.0 902.0,342.0\" fill=\"currentColor\"/>\n",
       "</g>\n",
       "\n",
       "<g class=\"displacy-arrow\">\n",
       "    <path class=\"displacy-arc\" id=\"arrow-be9787dc7d864333a4f5a2feef0b9207-0-5\" stroke-width=\"2px\" d=\"M1120,352.0 C1120,264.5 1260.0,264.5 1260.0,352.0\" fill=\"none\" stroke=\"currentColor\"/>\n",
       "    <text dy=\"1.25em\" style=\"font-size: 0.8em; letter-spacing: 1px\">\n",
       "        <textPath xlink:href=\"#arrow-be9787dc7d864333a4f5a2feef0b9207-0-5\" class=\"displacy-label\" startOffset=\"50%\" side=\"left\" fill=\"currentColor\" text-anchor=\"middle\">case</textPath>\n",
       "    </text>\n",
       "    <path class=\"displacy-arrowhead\" d=\"M1120,354.0 L1112,342.0 1128,342.0\" fill=\"currentColor\"/>\n",
       "</g>\n",
       "\n",
       "<g class=\"displacy-arrow\">\n",
       "    <path class=\"displacy-arc\" id=\"arrow-be9787dc7d864333a4f5a2feef0b9207-0-6\" stroke-width=\"2px\" d=\"M770,352.0 C770,177.0 1265.0,177.0 1265.0,352.0\" fill=\"none\" stroke=\"currentColor\"/>\n",
       "    <text dy=\"1.25em\" style=\"font-size: 0.8em; letter-spacing: 1px\">\n",
       "        <textPath xlink:href=\"#arrow-be9787dc7d864333a4f5a2feef0b9207-0-6\" class=\"displacy-label\" startOffset=\"50%\" side=\"left\" fill=\"currentColor\" text-anchor=\"middle\">nmod</textPath>\n",
       "    </text>\n",
       "    <path class=\"displacy-arrowhead\" d=\"M1265.0,354.0 L1273.0,342.0 1257.0,342.0\" fill=\"currentColor\"/>\n",
       "</g>\n",
       "\n",
       "<g class=\"displacy-arrow\">\n",
       "    <path class=\"displacy-arc\" id=\"arrow-be9787dc7d864333a4f5a2feef0b9207-0-7\" stroke-width=\"2px\" d=\"M770,352.0 C770,89.5 1445.0,89.5 1445.0,352.0\" fill=\"none\" stroke=\"currentColor\"/>\n",
       "    <text dy=\"1.25em\" style=\"font-size: 0.8em; letter-spacing: 1px\">\n",
       "        <textPath xlink:href=\"#arrow-be9787dc7d864333a4f5a2feef0b9207-0-7\" class=\"displacy-label\" startOffset=\"50%\" side=\"left\" fill=\"currentColor\" text-anchor=\"middle\">punct</textPath>\n",
       "    </text>\n",
       "    <path class=\"displacy-arrowhead\" d=\"M1445.0,354.0 L1453.0,342.0 1437.0,342.0\" fill=\"currentColor\"/>\n",
       "</g>\n",
       "\n",
       "<g class=\"displacy-arrow\">\n",
       "    <path class=\"displacy-arc\" id=\"arrow-be9787dc7d864333a4f5a2feef0b9207-0-8\" stroke-width=\"2px\" d=\"M1470,352.0 C1470,264.5 1610.0,264.5 1610.0,352.0\" fill=\"none\" stroke=\"currentColor\"/>\n",
       "    <text dy=\"1.25em\" style=\"font-size: 0.8em; letter-spacing: 1px\">\n",
       "        <textPath xlink:href=\"#arrow-be9787dc7d864333a4f5a2feef0b9207-0-8\" class=\"displacy-label\" startOffset=\"50%\" side=\"left\" fill=\"currentColor\" text-anchor=\"middle\">dep</textPath>\n",
       "    </text>\n",
       "    <path class=\"displacy-arrowhead\" d=\"M1610.0,354.0 L1618.0,342.0 1602.0,342.0\" fill=\"currentColor\"/>\n",
       "</g>\n",
       "\n",
       "<g class=\"displacy-arrow\">\n",
       "    <path class=\"displacy-arc\" id=\"arrow-be9787dc7d864333a4f5a2feef0b9207-0-9\" stroke-width=\"2px\" d=\"M1820,352.0 C1820,264.5 1960.0,264.5 1960.0,352.0\" fill=\"none\" stroke=\"currentColor\"/>\n",
       "    <text dy=\"1.25em\" style=\"font-size: 0.8em; letter-spacing: 1px\">\n",
       "        <textPath xlink:href=\"#arrow-be9787dc7d864333a4f5a2feef0b9207-0-9\" class=\"displacy-label\" startOffset=\"50%\" side=\"left\" fill=\"currentColor\" text-anchor=\"middle\">nsubj</textPath>\n",
       "    </text>\n",
       "    <path class=\"displacy-arrowhead\" d=\"M1820,354.0 L1812,342.0 1828,342.0\" fill=\"currentColor\"/>\n",
       "</g>\n",
       "\n",
       "<g class=\"displacy-arrow\">\n",
       "    <path class=\"displacy-arc\" id=\"arrow-be9787dc7d864333a4f5a2feef0b9207-0-10\" stroke-width=\"2px\" d=\"M2170,352.0 C2170,264.5 2310.0,264.5 2310.0,352.0\" fill=\"none\" stroke=\"currentColor\"/>\n",
       "    <text dy=\"1.25em\" style=\"font-size: 0.8em; letter-spacing: 1px\">\n",
       "        <textPath xlink:href=\"#arrow-be9787dc7d864333a4f5a2feef0b9207-0-10\" class=\"displacy-label\" startOffset=\"50%\" side=\"left\" fill=\"currentColor\" text-anchor=\"middle\">case</textPath>\n",
       "    </text>\n",
       "    <path class=\"displacy-arrowhead\" d=\"M2170,354.0 L2162,342.0 2178,342.0\" fill=\"currentColor\"/>\n",
       "</g>\n",
       "\n",
       "<g class=\"displacy-arrow\">\n",
       "    <path class=\"displacy-arc\" id=\"arrow-be9787dc7d864333a4f5a2feef0b9207-0-11\" stroke-width=\"2px\" d=\"M1995,352.0 C1995,177.0 2315.0,177.0 2315.0,352.0\" fill=\"none\" stroke=\"currentColor\"/>\n",
       "    <text dy=\"1.25em\" style=\"font-size: 0.8em; letter-spacing: 1px\">\n",
       "        <textPath xlink:href=\"#arrow-be9787dc7d864333a4f5a2feef0b9207-0-11\" class=\"displacy-label\" startOffset=\"50%\" side=\"left\" fill=\"currentColor\" text-anchor=\"middle\">obl</textPath>\n",
       "    </text>\n",
       "    <path class=\"displacy-arrowhead\" d=\"M2315.0,354.0 L2323.0,342.0 2307.0,342.0\" fill=\"currentColor\"/>\n",
       "</g>\n",
       "</svg></span>"
      ],
      "text/plain": [
       "<IPython.core.display.HTML object>"
      ]
     },
     "metadata": {},
     "output_type": "display_data"
    },
    {
     "ename": "TypeError",
     "evalue": "write() argument must be str, not None",
     "output_type": "error",
     "traceback": [
      "\u001b[0;31m---------------------------------------------------------------------------\u001b[0m",
      "\u001b[0;31mTypeError\u001b[0m                                 Traceback (most recent call last)",
      "Cell \u001b[0;32mIn[11], line 9\u001b[0m\n\u001b[1;32m      7\u001b[0m saida \u001b[38;5;241m=\u001b[39m spacy\u001b[38;5;241m.\u001b[39mdisplacy\u001b[38;5;241m.\u001b[39mrender(doc,style\u001b[38;5;241m=\u001b[39m\u001b[38;5;124m\"\u001b[39m\u001b[38;5;124mdep\u001b[39m\u001b[38;5;124m\"\u001b[39m)\n\u001b[1;32m      8\u001b[0m arquivo \u001b[38;5;241m=\u001b[39m Path(\u001b[38;5;124m\"\u001b[39m\u001b[38;5;124mexemplo.svg\u001b[39m\u001b[38;5;124m\"\u001b[39m)\n\u001b[0;32m----> 9\u001b[0m \u001b[43marquivo\u001b[49m\u001b[38;5;241;43m.\u001b[39;49m\u001b[43mopen\u001b[49m\u001b[43m(\u001b[49m\u001b[38;5;124;43m\"\u001b[39;49m\u001b[38;5;124;43mw\u001b[39;49m\u001b[38;5;124;43m\"\u001b[39;49m\u001b[43m,\u001b[49m\u001b[43m \u001b[49m\u001b[43mencoding\u001b[49m\u001b[38;5;241;43m=\u001b[39;49m\u001b[38;5;124;43m\"\u001b[39;49m\u001b[38;5;124;43mutf-8\u001b[39;49m\u001b[38;5;124;43m\"\u001b[39;49m\u001b[43m)\u001b[49m\u001b[38;5;241;43m.\u001b[39;49m\u001b[43mwrite\u001b[49m\u001b[43m(\u001b[49m\u001b[43msaida\u001b[49m\u001b[43m)\u001b[49m\n",
      "\u001b[0;31mTypeError\u001b[0m: write() argument must be str, not None"
     ]
    }
   ],
   "source": [
    "#https://emorynlp.github.io/nlp4j/components/dependency-parsing.html\n",
    "print(doc)\n",
    "print(\"\\n(TOKEN, DEPENDENCIAS, HEAD)\")\n",
    "for token in doc:\n",
    "    print((token.text, token.dep_, token.head ))\n",
    "\n",
    "saida = spacy.displacy.render(doc,style=\"dep\")\n",
    "arquivo = Path(\"exemplo.svg\")\n",
    "arquivo.open(\"w\", encoding=\"utf-8\").write(saida)"
   ]
  },
  {
   "cell_type": "code",
   "execution_count": null,
   "metadata": {
    "colab": {
     "base_uri": "https://localhost:8080/"
    },
    "id": "pdE55lmquSJj",
    "outputId": "95128924-e65c-4c91-903f-15b0ade9e181"
   },
   "outputs": [],
   "source": [
    "print(\"\\n(TOKEN, NER)\")\n",
    "for token in doc:\n",
    "    print((token.text,  token.ent_type_ ))"
   ]
  },
  {
   "cell_type": "code",
   "execution_count": null,
   "metadata": {
    "colab": {
     "base_uri": "https://localhost:8080/"
    },
    "id": "g6rK8ulKu3K_",
    "outputId": "cd87cbe2-e5bc-4dcb-ba95-106f61c1a4ce"
   },
   "outputs": [],
   "source": [
    "print(\"\\n(TOKEN, PALAVRA, OOV, DIGITO)\")\n",
    "for token in doc:\n",
    "    print((token.text, token.is_alpha, token.is_oov, token.is_digit))"
   ]
  },
  {
   "cell_type": "code",
   "execution_count": null,
   "metadata": {
    "colab": {
     "base_uri": "https://localhost:8080/"
    },
    "id": "3Clis3dOuuUr",
    "outputId": "da845bee-0cf0-4db6-92a6-02c6af56f691"
   },
   "outputs": [],
   "source": [
    "print(\"\\n(TOKEN, TERMINACOES)\")\n",
    "for token in doc:\n",
    "    print((token.text,token.suffix_))"
   ]
  },
  {
   "cell_type": "code",
   "execution_count": null,
   "metadata": {
    "colab": {
     "base_uri": "https://localhost:8080/"
    },
    "id": "uezLdDrLu4pg",
    "outputId": "ce3aedcd-3f05-4112-ec82-9ce698eb5f68"
   },
   "outputs": [],
   "source": [
    "#https://machinelearningknowledge.ai/tutorial-for-stopwords-in-spacy/\n",
    "#Lista de Stopwords\n",
    "stopwords = nlp.Defaults.stop_words\n",
    "print(len(stopwords))\n",
    "print(stopwords)\n",
    "#for token in stopwords:\n",
    "#  print(token)\n",
    "print(doc)\n",
    "print(\"\\n(TOKEN, STOPWORD)\")\n",
    "for token in doc:\n",
    "    print((token.text, token.is_stop ))\n",
    "\n",
    "print(\"finalizado\")"
   ]
  }
 ],
 "metadata": {
  "colab": {
   "provenance": []
  },
  "kernelspec": {
   "display_name": "Python 3 (ipykernel)",
   "language": "python",
   "name": "python3"
  },
  "language_info": {
   "codemirror_mode": {
    "name": "ipython",
    "version": 3
   },
   "file_extension": ".py",
   "mimetype": "text/x-python",
   "name": "python",
   "nbconvert_exporter": "python",
   "pygments_lexer": "ipython3",
   "version": "3.10.12"
  }
 },
 "nbformat": 4,
 "nbformat_minor": 4
}
